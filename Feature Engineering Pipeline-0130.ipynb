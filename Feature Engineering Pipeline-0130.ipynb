{
 "cells": [
  {
   "cell_type": "markdown",
   "metadata": {},
   "source": [
    "# Feature Engineering Pipeline\n",
    "\n",
    "\n",
    "\n",
    "- Pipeline - is a class that allows to run transformers and a machine learning model (estimator) in sequence.\n",
    "\n",
    "\n",
    "- list of step-by-step instructions to transform your data.\n",
    "\n",
    "\n",
    "- so, we can reuse the transformers and use it in both training and test set\n",
    "\n",
    "\n",
    "- You only have to call fit and predict once on your data to fit a whole sequence of estimators.\n",
    "\n",
    "\n",
    "- Pipelines help avoid leaking statistics from your test data into the trained model in cross-validation, by ensuring that the same samples are used to train the transformers and predictors.\n",
    "\n",
    "\n",
    "\n",
    "- All estimators in a pipeline, except the last one, must be transformers (i.e. must have a transform method). The last estimator may be any type (transformer, classifier, etc.)\n",
    "\n",
    "\n",
    "\n",
    "- You can grid search over parameters of all estimators in the pipeline at once.\n",
    "\n",
    "\n",
    "\n",
    "- The Pipeline is built using a list of (key, value) pairs, where the key is a string containing the name you want to give this step and value is an estimator object.\n",
    "\n",
    "\n",
    "- The utility function \"make_pipeline\" is a shorthand for constructing pipelines; it takes a variable number of estimators and returns a pipeline, filling in the names automatically:\n",
    "\n",
    "\n",
    "- make_pipeline(Binarizer(), MultinomialNB())\n",
    " - Pipeline(steps=[('binarizer', Binarizer()), ('multinomialnb', MultinomialNB())])\n",
    "\n",
    "- from sklearn.pipeline import Pipeline\n",
    "\n",
    "\n",
    "\n",
    "\n",
    "\n",
    "\n",
    "## Transformers: \n",
    "*************************\n",
    "\n",
    "\n",
    "\n",
    "### for data preparation                                                                                                        \n",
    "\n",
    "\n",
    "### fit-find parameters from training data                                                       \n",
    "\n",
    "\n",
    "### transform-apply to training or test data                                                   \n",
    "\n",
    "\n",
    "### standardscaler(),onehotencoder(),simpleimputer(),kbinsdiscretizer() etc..                                                               \n",
    "                                                               \n",
    "\n",
    "\n",
    "\n",
    "\n",
    "\n",
    "\n",
    "\n",
    "## Estimator  (Model):\n",
    "********************************\n",
    "  \n",
    "  \n",
    "  \n",
    "### for modeling\n",
    "\n",
    "\n",
    "### fit-find parameters from training data\n",
    "  \n",
    "### predict-apply to training or test data\n",
    "  \n",
    "### Gradientboostclasifier() ,LogisticRegression(),XGBoost() \n",
    "\n",
    "\n",
    "\n",
    "\n",
    "___________________________________________________________________________________\n",
    "\n",
    "\n",
    "## Classification Pipeline – to tackle classification problem\n",
    "\n",
    "## Regression Pipeline - to tackle regression problem\n",
    "\n",
    "\n",
    "\n",
    "\n",
    "\n",
    "\n",
    "\n"
   ]
  },
  {
   "cell_type": "markdown",
   "metadata": {},
   "source": [
    "# Classification Pipeline\n",
    "\n",
    "## Titanic Dataset"
   ]
  },
  {
   "cell_type": "code",
   "execution_count": 44,
   "metadata": {},
   "outputs": [],
   "source": [
    "import pandas as pd\n",
    "import numpy as np\n",
    "import matplotlib.pyplot as plt\n",
    "\n",
    "# for the model\n",
    "from sklearn.model_selection import train_test_split\n",
    "from sklearn.ensemble import GradientBoostingClassifier\n",
    "from sklearn.metrics import roc_auc_score\n",
    "from sklearn.pipeline import Pipeline\n",
    "\n",
    "# for feature engineering\n",
    "from feature_engine import missing_data_imputers as mdi\n",
    "from feature_engine import discretisers as dsc\n",
    "from feature_engine import categorical_encoders as ce"
   ]
  },
  {
   "cell_type": "code",
   "execution_count": 45,
   "metadata": {},
   "outputs": [
    {
     "data": {
      "text/html": [
       "<div>\n",
       "<style scoped>\n",
       "    .dataframe tbody tr th:only-of-type {\n",
       "        vertical-align: middle;\n",
       "    }\n",
       "\n",
       "    .dataframe tbody tr th {\n",
       "        vertical-align: top;\n",
       "    }\n",
       "\n",
       "    .dataframe thead th {\n",
       "        text-align: right;\n",
       "    }\n",
       "</style>\n",
       "<table border=\"1\" class=\"dataframe\">\n",
       "  <thead>\n",
       "    <tr style=\"text-align: right;\">\n",
       "      <th></th>\n",
       "      <th>Survived</th>\n",
       "      <th>Pclass</th>\n",
       "      <th>Sex</th>\n",
       "      <th>Age</th>\n",
       "      <th>SibSp</th>\n",
       "      <th>Parch</th>\n",
       "      <th>Fare</th>\n",
       "      <th>Cabin</th>\n",
       "      <th>Embarked</th>\n",
       "    </tr>\n",
       "  </thead>\n",
       "  <tbody>\n",
       "    <tr>\n",
       "      <th>0</th>\n",
       "      <td>0</td>\n",
       "      <td>3</td>\n",
       "      <td>male</td>\n",
       "      <td>22.0</td>\n",
       "      <td>1</td>\n",
       "      <td>0</td>\n",
       "      <td>7.2500</td>\n",
       "      <td>NaN</td>\n",
       "      <td>S</td>\n",
       "    </tr>\n",
       "    <tr>\n",
       "      <th>1</th>\n",
       "      <td>1</td>\n",
       "      <td>1</td>\n",
       "      <td>female</td>\n",
       "      <td>38.0</td>\n",
       "      <td>1</td>\n",
       "      <td>0</td>\n",
       "      <td>71.2833</td>\n",
       "      <td>C85</td>\n",
       "      <td>C</td>\n",
       "    </tr>\n",
       "    <tr>\n",
       "      <th>2</th>\n",
       "      <td>1</td>\n",
       "      <td>3</td>\n",
       "      <td>female</td>\n",
       "      <td>26.0</td>\n",
       "      <td>0</td>\n",
       "      <td>0</td>\n",
       "      <td>7.9250</td>\n",
       "      <td>NaN</td>\n",
       "      <td>S</td>\n",
       "    </tr>\n",
       "    <tr>\n",
       "      <th>3</th>\n",
       "      <td>1</td>\n",
       "      <td>1</td>\n",
       "      <td>female</td>\n",
       "      <td>35.0</td>\n",
       "      <td>1</td>\n",
       "      <td>0</td>\n",
       "      <td>53.1000</td>\n",
       "      <td>C123</td>\n",
       "      <td>S</td>\n",
       "    </tr>\n",
       "    <tr>\n",
       "      <th>4</th>\n",
       "      <td>0</td>\n",
       "      <td>3</td>\n",
       "      <td>male</td>\n",
       "      <td>35.0</td>\n",
       "      <td>0</td>\n",
       "      <td>0</td>\n",
       "      <td>8.0500</td>\n",
       "      <td>NaN</td>\n",
       "      <td>S</td>\n",
       "    </tr>\n",
       "  </tbody>\n",
       "</table>\n",
       "</div>"
      ],
      "text/plain": [
       "   Survived  Pclass     Sex   Age  SibSp  Parch     Fare Cabin Embarked\n",
       "0         0       3    male  22.0      1      0   7.2500   NaN        S\n",
       "1         1       1  female  38.0      1      0  71.2833   C85        C\n",
       "2         1       3  female  26.0      0      0   7.9250   NaN        S\n",
       "3         1       1  female  35.0      1      0  53.1000  C123        S\n",
       "4         0       3    male  35.0      0      0   8.0500   NaN        S"
      ]
     },
     "execution_count": 45,
     "metadata": {},
     "output_type": "execute_result"
    }
   ],
   "source": [
    "data = pd.read_csv('D:/ShakthiSai -Keerthana Learnings/AI and Machine Learning/Feature Engineering/titanic_train.csv',\n",
    "                   usecols=['Pclass', 'Sex', 'Age', 'SibSp', 'Parch', 'Fare', 'Cabin',\n",
    "    'Embarked', 'Survived'])\n",
    "\n",
    "data.head()"
   ]
  },
  {
   "cell_type": "code",
   "execution_count": 46,
   "metadata": {},
   "outputs": [
    {
     "data": {
      "text/plain": [
       "Index(['Survived', 'Pclass', 'Sex', 'Age', 'SibSp', 'Parch', 'Fare', 'Cabin',\n",
       "       'Embarked'],\n",
       "      dtype='object')"
      ]
     },
     "execution_count": 46,
     "metadata": {},
     "output_type": "execute_result"
    }
   ],
   "source": [
    "data.columns "
   ]
  },
  {
   "cell_type": "markdown",
   "metadata": {},
   "source": [
    "## Datatype of Variables and variables"
   ]
  },
  {
   "cell_type": "code",
   "execution_count": 47,
   "metadata": {},
   "outputs": [
    {
     "data": {
      "text/plain": [
       "Survived      int64\n",
       "Pclass        int64\n",
       "Sex          object\n",
       "Age         float64\n",
       "SibSp         int64\n",
       "Parch         int64\n",
       "Fare        float64\n",
       "Cabin        object\n",
       "Embarked     object\n",
       "dtype: object"
      ]
     },
     "execution_count": 47,
     "metadata": {},
     "output_type": "execute_result"
    }
   ],
   "source": [
    "\n",
    "data.dtypes"
   ]
  },
  {
   "cell_type": "code",
   "execution_count": 48,
   "metadata": {},
   "outputs": [
    {
     "name": "stdout",
     "output_type": "stream",
     "text": [
      "Survived [0 1]\n",
      "Survived 2\n",
      "Pclass [3 1 2]\n",
      "Pclass 3\n",
      "Sex ['male' 'female']\n",
      "Sex 2\n",
      "Age [22.   38.   26.   35.     nan 54.    2.   27.   14.    4.   58.   20.\n",
      " 39.   55.   31.   34.   15.   28.    8.   19.   40.   66.   42.   21.\n",
      " 18.    3.    7.   49.   29.   65.   28.5   5.   11.   45.   17.   32.\n",
      " 16.   25.    0.83 30.   33.   23.   24.   46.   59.   71.   37.   47.\n",
      " 14.5  70.5  32.5  12.    9.   36.5  51.   55.5  40.5  44.    1.   61.\n",
      " 56.   50.   36.   45.5  20.5  62.   41.   52.   63.   23.5   0.92 43.\n",
      " 60.   10.   64.   13.   48.    0.75 53.   57.   80.   70.   24.5   6.\n",
      "  0.67 30.5   0.42 34.5  74.  ]\n",
      "Age 88\n",
      "SibSp [1 0 3 4 2 5 8]\n",
      "SibSp 7\n",
      "Parch [0 1 2 5 3 4 6]\n",
      "Parch 7\n",
      "Fare [  7.25    71.2833   7.925   53.1      8.05     8.4583  51.8625  21.075\n",
      "  11.1333  30.0708  16.7     26.55    31.275    7.8542  16.      29.125\n",
      "  13.      18.       7.225   26.       8.0292  35.5     31.3875 263.\n",
      "   7.8792   7.8958  27.7208 146.5208   7.75    10.5     82.1708  52.\n",
      "   7.2292  11.2417   9.475   21.      41.5792  15.5     21.6792  17.8\n",
      "  39.6875   7.8     76.7292  61.9792  27.75    46.9     80.      83.475\n",
      "  27.9     15.2458   8.1583   8.6625  73.5     14.4542  56.4958   7.65\n",
      "  29.      12.475    9.       9.5      7.7875  47.1     15.85    34.375\n",
      "  61.175   20.575   34.6542  63.3583  23.      77.2875   8.6542   7.775\n",
      "  24.15     9.825   14.4583 247.5208   7.1417  22.3583   6.975    7.05\n",
      "  14.5     15.0458  26.2833   9.2167  79.2      6.75    11.5     36.75\n",
      "   7.7958  12.525   66.6      7.3125  61.3792   7.7333  69.55    16.1\n",
      "  15.75    20.525   55.      25.925   33.5     30.6958  25.4667  28.7125\n",
      "   0.      15.05    39.      22.025   50.       8.4042   6.4958  10.4625\n",
      "  18.7875  31.     113.275   27.      76.2917  90.       9.35    13.5\n",
      "   7.55    26.25    12.275    7.125   52.5542  20.2125  86.5    512.3292\n",
      "  79.65   153.4625 135.6333  19.5     29.7     77.9583  20.25    78.85\n",
      "  91.0792  12.875    8.85   151.55    30.5     23.25    12.35   110.8833\n",
      " 108.9     24.      56.9292  83.1583 262.375   14.     164.8667 134.5\n",
      "   6.2375  57.9792  28.5    133.65    15.9      9.225   35.      75.25\n",
      "  69.3     55.4417 211.5      4.0125 227.525   15.7417   7.7292  12.\n",
      " 120.      12.65    18.75     6.8583  32.5      7.875   14.4     55.9\n",
      "   8.1125  81.8583  19.2583  19.9667  89.1042  38.5      7.725   13.7917\n",
      "   9.8375   7.0458   7.5208  12.2875   9.5875  49.5042  78.2667  15.1\n",
      "   7.6292  22.525   26.2875  59.4      7.4958  34.0208  93.5    221.7792\n",
      " 106.425   49.5     71.      13.8625   7.8292  39.6     17.4     51.4792\n",
      "  26.3875  30.      40.125    8.7125  15.      33.      42.4     15.55\n",
      "  65.      32.3208   7.0542   8.4333  25.5875   9.8417   8.1375  10.1708\n",
      " 211.3375  57.      13.4167   7.7417   9.4833   7.7375   8.3625  23.45\n",
      "  25.9292   8.6833   8.5167   7.8875  37.0042   6.45     6.95     8.3\n",
      "   6.4375  39.4     14.1083  13.8583  50.4958   5.       9.8458  10.5167]\n",
      "Fare 248\n",
      "Cabin [nan 'C85' 'C123' 'E46' 'G6' 'C103' 'D56' 'A6' 'C23 C25 C27' 'B78' 'D33'\n",
      " 'B30' 'C52' 'B28' 'C83' 'F33' 'F G73' 'E31' 'A5' 'D10 D12' 'D26' 'C110'\n",
      " 'B58 B60' 'E101' 'F E69' 'D47' 'B86' 'F2' 'C2' 'E33' 'B19' 'A7' 'C49'\n",
      " 'F4' 'A32' 'B4' 'B80' 'A31' 'D36' 'D15' 'C93' 'C78' 'D35' 'C87' 'B77'\n",
      " 'E67' 'B94' 'C125' 'C99' 'C118' 'D7' 'A19' 'B49' 'D' 'C22 C26' 'C106'\n",
      " 'C65' 'E36' 'C54' 'B57 B59 B63 B66' 'C7' 'E34' 'C32' 'B18' 'C124' 'C91'\n",
      " 'E40' 'T' 'C128' 'D37' 'B35' 'E50' 'C82' 'B96 B98' 'E10' 'E44' 'A34'\n",
      " 'C104' 'C111' 'C92' 'E38' 'D21' 'E12' 'E63' 'A14' 'B37' 'C30' 'D20' 'B79'\n",
      " 'E25' 'D46' 'B73' 'C95' 'B38' 'B39' 'B22' 'C86' 'C70' 'A16' 'C101' 'C68'\n",
      " 'A10' 'E68' 'B41' 'A20' 'D19' 'D50' 'D9' 'A23' 'B50' 'A26' 'D48' 'E58'\n",
      " 'C126' 'B71' 'B51 B53 B55' 'D49' 'B5' 'B20' 'F G63' 'C62 C64' 'E24' 'C90'\n",
      " 'C45' 'E8' 'B101' 'D45' 'C46' 'D30' 'E121' 'D11' 'E77' 'F38' 'B3' 'D6'\n",
      " 'B82 B84' 'D17' 'A36' 'B102' 'B69' 'E49' 'C47' 'D28' 'E17' 'A24' 'C50'\n",
      " 'B42' 'C148']\n",
      "Cabin 147\n",
      "Embarked ['S' 'C' 'Q' nan]\n",
      "Embarked 3\n"
     ]
    }
   ],
   "source": [
    "for variables in data.columns:\n",
    "    print(variables,data[variables].unique())\n",
    "    print(variables,data[variables].nunique())"
   ]
  },
  {
   "cell_type": "markdown",
   "metadata": {},
   "source": [
    "## Numerical(Discrete,continuous), mixed and Categorical Variables"
   ]
  },
  {
   "cell_type": "code",
   "execution_count": 49,
   "metadata": {},
   "outputs": [],
   "source": [
    "discrete = [variables for variables in data.columns if data[variables].dtype!='O' and variables!='Survived' and data[variables].nunique()<10]\n",
    "\n",
    "continuous = [variables for variables in data.columns if data[variables].dtype!='O' and variables!='Survived' and variables not in discrete]\n",
    "\n",
    "mixed = ['Cabin']\n",
    "\n",
    "categorical = [variables for variables in data.columns if data[variables].dtype=='O' and variables not in mixed]\n"
   ]
  },
  {
   "cell_type": "code",
   "execution_count": 50,
   "metadata": {},
   "outputs": [
    {
     "data": {
      "text/plain": [
       "['Pclass', 'SibSp', 'Parch']"
      ]
     },
     "execution_count": 50,
     "metadata": {},
     "output_type": "execute_result"
    }
   ],
   "source": [
    "discrete"
   ]
  },
  {
   "cell_type": "code",
   "execution_count": 51,
   "metadata": {},
   "outputs": [
    {
     "data": {
      "text/plain": [
       "['Age', 'Fare']"
      ]
     },
     "execution_count": 51,
     "metadata": {},
     "output_type": "execute_result"
    }
   ],
   "source": [
    "continuous"
   ]
  },
  {
   "cell_type": "code",
   "execution_count": 52,
   "metadata": {},
   "outputs": [
    {
     "data": {
      "text/plain": [
       "['Cabin']"
      ]
     },
     "execution_count": 52,
     "metadata": {},
     "output_type": "execute_result"
    }
   ],
   "source": [
    "mixed"
   ]
  },
  {
   "cell_type": "code",
   "execution_count": 53,
   "metadata": {},
   "outputs": [
    {
     "data": {
      "text/plain": [
       "['Sex', 'Embarked']"
      ]
     },
     "execution_count": 53,
     "metadata": {},
     "output_type": "execute_result"
    }
   ],
   "source": [
    "categorical"
   ]
  },
  {
   "cell_type": "markdown",
   "metadata": {},
   "source": [
    "## Cardinality"
   ]
  },
  {
   "cell_type": "code",
   "execution_count": 54,
   "metadata": {},
   "outputs": [
    {
     "data": {
      "text/plain": [
       "Sex         2\n",
       "Embarked    3\n",
       "dtype: int64"
      ]
     },
     "execution_count": 54,
     "metadata": {},
     "output_type": "execute_result"
    }
   ],
   "source": [
    "data[categorical].nunique()"
   ]
  },
  {
   "cell_type": "code",
   "execution_count": 55,
   "metadata": {},
   "outputs": [
    {
     "data": {
      "text/plain": [
       "Sex           2\n",
       "Embarked      3\n",
       "Cabin       147\n",
       "dtype: int64"
      ]
     },
     "execution_count": 55,
     "metadata": {},
     "output_type": "execute_result"
    }
   ],
   "source": [
    "data[categorical+mixed].nunique()"
   ]
  },
  {
   "cell_type": "markdown",
   "metadata": {},
   "source": [
    "### cardinality of cabin is high. so, split into numerical and categorical part"
   ]
  },
  {
   "cell_type": "markdown",
   "metadata": {},
   "source": [
    "## outliers"
   ]
  },
  {
   "cell_type": "code",
   "execution_count": 56,
   "metadata": {},
   "outputs": [
    {
     "name": "stderr",
     "output_type": "stream",
     "text": [
      "C:\\Users\\Vikee\\anaconda3\\lib\\site-packages\\numpy\\core\\_asarray.py:83: VisibleDeprecationWarning: Creating an ndarray from ragged nested sequences (which is a list-or-tuple of lists-or-tuples-or ndarrays with different lengths or shapes) is deprecated. If you meant to do this, you must specify 'dtype=object' when creating the ndarray\n",
      "  return array(a, dtype, copy=False, order=order)\n"
     ]
    },
    {
     "data": {
      "text/plain": [
       "<matplotlib.axes._subplots.AxesSubplot at 0x2512df6cf88>"
      ]
     },
     "execution_count": 56,
     "metadata": {},
     "output_type": "execute_result"
    },
    {
     "data": {
      "image/png": "[encoded data removed]",
      "text/plain": [
       "<Figure size 720x288 with 1 Axes>"
      ]
     },
     "metadata": {
      "needs_background": "light"
     },
     "output_type": "display_data"
    }
   ],
   "source": [
    "data[continuous].boxplot(figsize=(10,4))"
   ]
  },
  {
   "cell_type": "markdown",
   "metadata": {},
   "source": [
    "## Engineering Mixed Variables"
   ]
  },
  {
   "cell_type": "code",
   "execution_count": 57,
   "metadata": {},
   "outputs": [
    {
     "data": {
      "text/plain": [
       "0     NaN\n",
       "1     C85\n",
       "2     NaN\n",
       "3    C123\n",
       "4     NaN\n",
       "5     NaN\n",
       "6     E46\n",
       "7     NaN\n",
       "8     NaN\n",
       "9     NaN\n",
       "Name: Cabin, dtype: object"
      ]
     },
     "execution_count": 57,
     "metadata": {},
     "output_type": "execute_result"
    }
   ],
   "source": [
    "data['Cabin'].head(10)"
   ]
  },
  {
   "cell_type": "code",
   "execution_count": 58,
   "metadata": {},
   "outputs": [
    {
     "data": {
      "text/plain": [
       "0      NaN\n",
       "1        C\n",
       "2      NaN\n",
       "3        C\n",
       "4      NaN\n",
       "      ... \n",
       "886    NaN\n",
       "887      B\n",
       "888    NaN\n",
       "889      C\n",
       "890    NaN\n",
       "Name: Cabin_class, Length: 891, dtype: object"
      ]
     },
     "execution_count": 58,
     "metadata": {},
     "output_type": "execute_result"
    }
   ],
   "source": [
    "data['Cabin_class']=data['Cabin'].str[0]\n",
    "data['Cabin_class']"
   ]
  },
  {
   "cell_type": "code",
   "execution_count": 59,
   "metadata": {},
   "outputs": [
    {
     "data": {
      "text/plain": [
       "0        NaN\n",
       "1       85.0\n",
       "2        NaN\n",
       "3      123.0\n",
       "4        NaN\n",
       "       ...  \n",
       "886      NaN\n",
       "887     42.0\n",
       "888      NaN\n",
       "889    148.0\n",
       "890      NaN\n",
       "Name: Cabin_number, Length: 891, dtype: float64"
      ]
     },
     "execution_count": 59,
     "metadata": {},
     "output_type": "execute_result"
    }
   ],
   "source": [
    "data['Cabin_number'] = data['Cabin'].str.extract('(\\d+)') # captures numerical part\n",
    "data['Cabin_number'] = data['Cabin_number'].astype('float')\n",
    "data['Cabin_number']"
   ]
  },
  {
   "cell_type": "code",
   "execution_count": 60,
   "metadata": {},
   "outputs": [
    {
     "data": {
      "text/html": [
       "<div>\n",
       "<style scoped>\n",
       "    .dataframe tbody tr th:only-of-type {\n",
       "        vertical-align: middle;\n",
       "    }\n",
       "\n",
       "    .dataframe tbody tr th {\n",
       "        vertical-align: top;\n",
       "    }\n",
       "\n",
       "    .dataframe thead th {\n",
       "        text-align: right;\n",
       "    }\n",
       "</style>\n",
       "<table border=\"1\" class=\"dataframe\">\n",
       "  <thead>\n",
       "    <tr style=\"text-align: right;\">\n",
       "      <th></th>\n",
       "      <th>Survived</th>\n",
       "      <th>Pclass</th>\n",
       "      <th>Sex</th>\n",
       "      <th>Age</th>\n",
       "      <th>SibSp</th>\n",
       "      <th>Parch</th>\n",
       "      <th>Fare</th>\n",
       "      <th>Cabin</th>\n",
       "      <th>Embarked</th>\n",
       "      <th>Cabin_class</th>\n",
       "      <th>Cabin_number</th>\n",
       "    </tr>\n",
       "  </thead>\n",
       "  <tbody>\n",
       "    <tr>\n",
       "      <th>0</th>\n",
       "      <td>0</td>\n",
       "      <td>3</td>\n",
       "      <td>male</td>\n",
       "      <td>22.0</td>\n",
       "      <td>1</td>\n",
       "      <td>0</td>\n",
       "      <td>7.2500</td>\n",
       "      <td>NaN</td>\n",
       "      <td>S</td>\n",
       "      <td>NaN</td>\n",
       "      <td>NaN</td>\n",
       "    </tr>\n",
       "    <tr>\n",
       "      <th>1</th>\n",
       "      <td>1</td>\n",
       "      <td>1</td>\n",
       "      <td>female</td>\n",
       "      <td>38.0</td>\n",
       "      <td>1</td>\n",
       "      <td>0</td>\n",
       "      <td>71.2833</td>\n",
       "      <td>C85</td>\n",
       "      <td>C</td>\n",
       "      <td>C</td>\n",
       "      <td>85.0</td>\n",
       "    </tr>\n",
       "    <tr>\n",
       "      <th>2</th>\n",
       "      <td>1</td>\n",
       "      <td>3</td>\n",
       "      <td>female</td>\n",
       "      <td>26.0</td>\n",
       "      <td>0</td>\n",
       "      <td>0</td>\n",
       "      <td>7.9250</td>\n",
       "      <td>NaN</td>\n",
       "      <td>S</td>\n",
       "      <td>NaN</td>\n",
       "      <td>NaN</td>\n",
       "    </tr>\n",
       "    <tr>\n",
       "      <th>3</th>\n",
       "      <td>1</td>\n",
       "      <td>1</td>\n",
       "      <td>female</td>\n",
       "      <td>35.0</td>\n",
       "      <td>1</td>\n",
       "      <td>0</td>\n",
       "      <td>53.1000</td>\n",
       "      <td>C123</td>\n",
       "      <td>S</td>\n",
       "      <td>C</td>\n",
       "      <td>123.0</td>\n",
       "    </tr>\n",
       "    <tr>\n",
       "      <th>4</th>\n",
       "      <td>0</td>\n",
       "      <td>3</td>\n",
       "      <td>male</td>\n",
       "      <td>35.0</td>\n",
       "      <td>0</td>\n",
       "      <td>0</td>\n",
       "      <td>8.0500</td>\n",
       "      <td>NaN</td>\n",
       "      <td>S</td>\n",
       "      <td>NaN</td>\n",
       "      <td>NaN</td>\n",
       "    </tr>\n",
       "  </tbody>\n",
       "</table>\n",
       "</div>"
      ],
      "text/plain": [
       "   Survived  Pclass     Sex   Age  SibSp  Parch     Fare Cabin Embarked  \\\n",
       "0         0       3    male  22.0      1      0   7.2500   NaN        S   \n",
       "1         1       1  female  38.0      1      0  71.2833   C85        C   \n",
       "2         1       3  female  26.0      0      0   7.9250   NaN        S   \n",
       "3         1       1  female  35.0      1      0  53.1000  C123        S   \n",
       "4         0       3    male  35.0      0      0   8.0500   NaN        S   \n",
       "\n",
       "  Cabin_class  Cabin_number  \n",
       "0         NaN           NaN  \n",
       "1           C          85.0  \n",
       "2         NaN           NaN  \n",
       "3           C         123.0  \n",
       "4         NaN           NaN  "
      ]
     },
     "execution_count": 60,
     "metadata": {},
     "output_type": "execute_result"
    }
   ],
   "source": [
    "data.head()"
   ]
  },
  {
   "cell_type": "code",
   "execution_count": 61,
   "metadata": {},
   "outputs": [],
   "source": [
    "data.drop(['Cabin'], axis=1, inplace=True)"
   ]
  },
  {
   "cell_type": "code",
   "execution_count": 62,
   "metadata": {},
   "outputs": [
    {
     "data": {
      "text/html": [
       "<div>\n",
       "<style scoped>\n",
       "    .dataframe tbody tr th:only-of-type {\n",
       "        vertical-align: middle;\n",
       "    }\n",
       "\n",
       "    .dataframe tbody tr th {\n",
       "        vertical-align: top;\n",
       "    }\n",
       "\n",
       "    .dataframe thead th {\n",
       "        text-align: right;\n",
       "    }\n",
       "</style>\n",
       "<table border=\"1\" class=\"dataframe\">\n",
       "  <thead>\n",
       "    <tr style=\"text-align: right;\">\n",
       "      <th></th>\n",
       "      <th>Survived</th>\n",
       "      <th>Pclass</th>\n",
       "      <th>Sex</th>\n",
       "      <th>Age</th>\n",
       "      <th>SibSp</th>\n",
       "      <th>Parch</th>\n",
       "      <th>Fare</th>\n",
       "      <th>Embarked</th>\n",
       "      <th>Cabin_class</th>\n",
       "      <th>Cabin_number</th>\n",
       "    </tr>\n",
       "  </thead>\n",
       "  <tbody>\n",
       "    <tr>\n",
       "      <th>0</th>\n",
       "      <td>0</td>\n",
       "      <td>3</td>\n",
       "      <td>male</td>\n",
       "      <td>22.0</td>\n",
       "      <td>1</td>\n",
       "      <td>0</td>\n",
       "      <td>7.2500</td>\n",
       "      <td>S</td>\n",
       "      <td>NaN</td>\n",
       "      <td>NaN</td>\n",
       "    </tr>\n",
       "    <tr>\n",
       "      <th>1</th>\n",
       "      <td>1</td>\n",
       "      <td>1</td>\n",
       "      <td>female</td>\n",
       "      <td>38.0</td>\n",
       "      <td>1</td>\n",
       "      <td>0</td>\n",
       "      <td>71.2833</td>\n",
       "      <td>C</td>\n",
       "      <td>C</td>\n",
       "      <td>85.0</td>\n",
       "    </tr>\n",
       "    <tr>\n",
       "      <th>2</th>\n",
       "      <td>1</td>\n",
       "      <td>3</td>\n",
       "      <td>female</td>\n",
       "      <td>26.0</td>\n",
       "      <td>0</td>\n",
       "      <td>0</td>\n",
       "      <td>7.9250</td>\n",
       "      <td>S</td>\n",
       "      <td>NaN</td>\n",
       "      <td>NaN</td>\n",
       "    </tr>\n",
       "    <tr>\n",
       "      <th>3</th>\n",
       "      <td>1</td>\n",
       "      <td>1</td>\n",
       "      <td>female</td>\n",
       "      <td>35.0</td>\n",
       "      <td>1</td>\n",
       "      <td>0</td>\n",
       "      <td>53.1000</td>\n",
       "      <td>S</td>\n",
       "      <td>C</td>\n",
       "      <td>123.0</td>\n",
       "    </tr>\n",
       "    <tr>\n",
       "      <th>4</th>\n",
       "      <td>0</td>\n",
       "      <td>3</td>\n",
       "      <td>male</td>\n",
       "      <td>35.0</td>\n",
       "      <td>0</td>\n",
       "      <td>0</td>\n",
       "      <td>8.0500</td>\n",
       "      <td>S</td>\n",
       "      <td>NaN</td>\n",
       "      <td>NaN</td>\n",
       "    </tr>\n",
       "  </tbody>\n",
       "</table>\n",
       "</div>"
      ],
      "text/plain": [
       "   Survived  Pclass     Sex   Age  SibSp  Parch     Fare Embarked Cabin_class  \\\n",
       "0         0       3    male  22.0      1      0   7.2500        S         NaN   \n",
       "1         1       1  female  38.0      1      0  71.2833        C           C   \n",
       "2         1       3  female  26.0      0      0   7.9250        S         NaN   \n",
       "3         1       1  female  35.0      1      0  53.1000        S           C   \n",
       "4         0       3    male  35.0      0      0   8.0500        S         NaN   \n",
       "\n",
       "   Cabin_number  \n",
       "0           NaN  \n",
       "1          85.0  \n",
       "2           NaN  \n",
       "3         123.0  \n",
       "4           NaN  "
      ]
     },
     "execution_count": 62,
     "metadata": {},
     "output_type": "execute_result"
    }
   ],
   "source": [
    "data.head()"
   ]
  },
  {
   "cell_type": "code",
   "execution_count": null,
   "metadata": {},
   "outputs": [],
   "source": []
  },
  {
   "cell_type": "code",
   "execution_count": 63,
   "metadata": {},
   "outputs": [],
   "source": [
    "X=data.drop('Survived', axis=1)\n",
    "y=data['Survived']"
   ]
  },
  {
   "cell_type": "code",
   "execution_count": 64,
   "metadata": {},
   "outputs": [
    {
     "data": {
      "text/html": [
       "<div>\n",
       "<style scoped>\n",
       "    .dataframe tbody tr th:only-of-type {\n",
       "        vertical-align: middle;\n",
       "    }\n",
       "\n",
       "    .dataframe tbody tr th {\n",
       "        vertical-align: top;\n",
       "    }\n",
       "\n",
       "    .dataframe thead th {\n",
       "        text-align: right;\n",
       "    }\n",
       "</style>\n",
       "<table border=\"1\" class=\"dataframe\">\n",
       "  <thead>\n",
       "    <tr style=\"text-align: right;\">\n",
       "      <th></th>\n",
       "      <th>Pclass</th>\n",
       "      <th>Sex</th>\n",
       "      <th>Age</th>\n",
       "      <th>SibSp</th>\n",
       "      <th>Parch</th>\n",
       "      <th>Fare</th>\n",
       "      <th>Embarked</th>\n",
       "      <th>Cabin_class</th>\n",
       "      <th>Cabin_number</th>\n",
       "    </tr>\n",
       "  </thead>\n",
       "  <tbody>\n",
       "    <tr>\n",
       "      <th>0</th>\n",
       "      <td>3</td>\n",
       "      <td>male</td>\n",
       "      <td>22.0</td>\n",
       "      <td>1</td>\n",
       "      <td>0</td>\n",
       "      <td>7.2500</td>\n",
       "      <td>S</td>\n",
       "      <td>NaN</td>\n",
       "      <td>NaN</td>\n",
       "    </tr>\n",
       "    <tr>\n",
       "      <th>1</th>\n",
       "      <td>1</td>\n",
       "      <td>female</td>\n",
       "      <td>38.0</td>\n",
       "      <td>1</td>\n",
       "      <td>0</td>\n",
       "      <td>71.2833</td>\n",
       "      <td>C</td>\n",
       "      <td>C</td>\n",
       "      <td>85.0</td>\n",
       "    </tr>\n",
       "    <tr>\n",
       "      <th>2</th>\n",
       "      <td>3</td>\n",
       "      <td>female</td>\n",
       "      <td>26.0</td>\n",
       "      <td>0</td>\n",
       "      <td>0</td>\n",
       "      <td>7.9250</td>\n",
       "      <td>S</td>\n",
       "      <td>NaN</td>\n",
       "      <td>NaN</td>\n",
       "    </tr>\n",
       "    <tr>\n",
       "      <th>3</th>\n",
       "      <td>1</td>\n",
       "      <td>female</td>\n",
       "      <td>35.0</td>\n",
       "      <td>1</td>\n",
       "      <td>0</td>\n",
       "      <td>53.1000</td>\n",
       "      <td>S</td>\n",
       "      <td>C</td>\n",
       "      <td>123.0</td>\n",
       "    </tr>\n",
       "    <tr>\n",
       "      <th>4</th>\n",
       "      <td>3</td>\n",
       "      <td>male</td>\n",
       "      <td>35.0</td>\n",
       "      <td>0</td>\n",
       "      <td>0</td>\n",
       "      <td>8.0500</td>\n",
       "      <td>S</td>\n",
       "      <td>NaN</td>\n",
       "      <td>NaN</td>\n",
       "    </tr>\n",
       "  </tbody>\n",
       "</table>\n",
       "</div>"
      ],
      "text/plain": [
       "   Pclass     Sex   Age  SibSp  Parch     Fare Embarked Cabin_class  \\\n",
       "0       3    male  22.0      1      0   7.2500        S         NaN   \n",
       "1       1  female  38.0      1      0  71.2833        C           C   \n",
       "2       3  female  26.0      0      0   7.9250        S         NaN   \n",
       "3       1  female  35.0      1      0  53.1000        S           C   \n",
       "4       3    male  35.0      0      0   8.0500        S         NaN   \n",
       "\n",
       "   Cabin_number  \n",
       "0           NaN  \n",
       "1          85.0  \n",
       "2           NaN  \n",
       "3         123.0  \n",
       "4           NaN  "
      ]
     },
     "execution_count": 64,
     "metadata": {},
     "output_type": "execute_result"
    }
   ],
   "source": [
    "X.head()"
   ]
  },
  {
   "cell_type": "code",
   "execution_count": 65,
   "metadata": {},
   "outputs": [
    {
     "data": {
      "text/plain": [
       "0      0\n",
       "1      1\n",
       "2      1\n",
       "3      1\n",
       "4      0\n",
       "      ..\n",
       "886    0\n",
       "887    1\n",
       "888    0\n",
       "889    1\n",
       "890    0\n",
       "Name: Survived, Length: 891, dtype: int64"
      ]
     },
     "execution_count": 65,
     "metadata": {},
     "output_type": "execute_result"
    }
   ],
   "source": [
    "y"
   ]
  },
  {
   "cell_type": "code",
   "execution_count": 66,
   "metadata": {},
   "outputs": [],
   "source": [
    "from sklearn.model_selection import train_test_split\n",
    "X_train,X_test,y_train,y_test=train_test_split(X,y,test_size=0.3,random_state=0)"
   ]
  },
  {
   "cell_type": "code",
   "execution_count": 67,
   "metadata": {},
   "outputs": [
    {
     "data": {
      "text/plain": [
       "8"
      ]
     },
     "execution_count": 67,
     "metadata": {},
     "output_type": "execute_result"
    }
   ],
   "source": [
    "X_train['Cabin_class'].nunique()"
   ]
  },
  {
   "cell_type": "markdown",
   "metadata": {},
   "source": [
    "### cardinality of cabin is reduced now."
   ]
  },
  {
   "cell_type": "markdown",
   "metadata": {},
   "source": [
    "## Missing data imputation"
   ]
  },
  {
   "cell_type": "code",
   "execution_count": 69,
   "metadata": {},
   "outputs": [
    {
     "data": {
      "text/plain": [
       "Pclass            0\n",
       "Age             121\n",
       "SibSp             0\n",
       "Parch             0\n",
       "Fare              0\n",
       "Cabin_number    475\n",
       "dtype: int64"
      ]
     },
     "execution_count": 69,
     "metadata": {},
     "output_type": "execute_result"
    }
   ],
   "source": [
    "X_train.select_dtypes(exclude='O').isnull().sum()  # numerical variables"
   ]
  },
  {
   "cell_type": "code",
   "execution_count": 70,
   "metadata": {},
   "outputs": [
    {
     "data": {
      "text/plain": [
       "Sex              0\n",
       "Embarked         2\n",
       "Cabin_class    471\n",
       "dtype: int64"
      ]
     },
     "execution_count": 70,
     "metadata": {},
     "output_type": "execute_result"
    }
   ],
   "source": [
    "X_train.select_dtypes(include='O').isnull().sum() # categorcal variables"
   ]
  },
  {
   "cell_type": "code",
   "execution_count": 71,
   "metadata": {},
   "outputs": [
    {
     "data": {
      "text/plain": [
       "Pclass          0.000000\n",
       "Age             0.194222\n",
       "SibSp           0.000000\n",
       "Parch           0.000000\n",
       "Fare            0.000000\n",
       "Cabin_number    0.762440\n",
       "dtype: float64"
      ]
     },
     "execution_count": 71,
     "metadata": {},
     "output_type": "execute_result"
    }
   ],
   "source": [
    "\n",
    "\n",
    "X_train.select_dtypes(exclude='O').isnull().mean()  # numerical"
   ]
  },
  {
   "cell_type": "code",
   "execution_count": 72,
   "metadata": {},
   "outputs": [
    {
     "data": {
      "text/plain": [
       "Sex            0.000000\n",
       "Embarked       0.003210\n",
       "Cabin_class    0.756019\n",
       "dtype: float64"
      ]
     },
     "execution_count": 72,
     "metadata": {},
     "output_type": "execute_result"
    }
   ],
   "source": [
    "X_train.select_dtypes(include='O').isnull().mean() # categorcal variables"
   ]
  },
  {
   "cell_type": "markdown",
   "metadata": {},
   "source": [
    "## Imputation method for numerical variables : arbitrary value imputation\n",
    "\n",
    "## Imputation method for categorical variables : missing label imputation"
   ]
  },
  {
   "cell_type": "code",
   "execution_count": 73,
   "metadata": {},
   "outputs": [
    {
     "data": {
      "text/plain": [
       "T    0.001605\n",
       "G    0.003210\n",
       "F    0.014446\n",
       "A    0.022472\n",
       "D    0.041734\n",
       "E    0.043339\n",
       "B    0.049759\n",
       "C    0.067416\n",
       "Name: Cabin_class, dtype: float64"
      ]
     },
     "execution_count": 73,
     "metadata": {},
     "output_type": "execute_result"
    }
   ],
   "source": [
    "# check variable frequency\n",
    "\n",
    "var = 'Cabin_class'\n",
    "(X_train[var].value_counts() / len(X_train)).sort_values()"
   ]
  },
  {
   "cell_type": "markdown",
   "metadata": {},
   "source": [
    "### Category endoder:  Categories T and G appear only in few observations, so  replace them into rare category encoder"
   ]
  },
  {
   "cell_type": "code",
   "execution_count": 74,
   "metadata": {},
   "outputs": [],
   "source": [
    "import pandas as pd\n",
    "import numpy as np\n",
    "import matplotlib.pyplot as plt\n",
    "\n",
    "# for the model\n",
    "from sklearn.model_selection import train_test_split\n",
    "from sklearn.ensemble import GradientBoostingClassifier\n",
    "from sklearn.metrics import roc_auc_score\n",
    "from sklearn.pipeline import Pipeline\n",
    "\n",
    "# for feature engineering\n",
    "from feature_engine import missing_data_imputers as mdi\n",
    "from feature_engine import discretisers as dsc\n",
    "from feature_engine import categorical_encoders as ce"
   ]
  },
  {
   "cell_type": "markdown",
   "metadata": {},
   "source": [
    "## Pipeline :"
   ]
  },
  {
   "cell_type": "code",
   "execution_count": 77,
   "metadata": {},
   "outputs": [],
   "source": [
    "data_pipe = Pipeline([\n",
    "    \n",
    "    # MISSING DATA IMPUTATION\n",
    "\n",
    "    ('imputer_number',mdi.ArbitraryNumberImputer(arbitrary_number=-1,variables=['Age','Cabin_number'])) ,\n",
    "    \n",
    "    ('imputer_category',mdi.CategoricalVariableImputer(variables=['Embarked','Cabin_class'])),\n",
    "    \n",
    "    # CATEGORICAL ENCODING\n",
    "    \n",
    "    ('rarelabel_encoder',ce.RareLabelCategoricalEncoder(tol=0.01,\n",
    "                                    n_categories=6,\n",
    "                                    variables=['Cabin_class'])),\n",
    "    \n",
    "    ('categorical_encoder',ce.OrdinalCategoricalEncoder(encoding_method='ordered',\n",
    "                                  variables=['Cabin_class', 'Sex', 'Embarked'])),\n",
    "    \n",
    "    # MODEL\n",
    "    \n",
    "    ('gbm', GradientBoostingClassifier(random_state=0))\n",
    "])\n"
   ]
  },
  {
   "cell_type": "code",
   "execution_count": 78,
   "metadata": {},
   "outputs": [
    {
     "data": {
      "text/plain": [
       "Pipeline(steps=[('imputer_number',\n",
       "                 ArbitraryNumberImputer(arbitrary_number=-1,\n",
       "                                        variables=['Age', 'Cabin_number'])),\n",
       "                ('imputer_category',\n",
       "                 CategoricalVariableImputer(variables=['Embarked',\n",
       "                                                       'Cabin_class'])),\n",
       "                ('rarelabel_encoder',\n",
       "                 RareLabelCategoricalEncoder(n_categories=6, tol=0.01,\n",
       "                                             variables=['Cabin_class'])),\n",
       "                ('categorical_encoder',\n",
       "                 OrdinalCategoricalEncoder(variables=['Cabin_class', 'Sex',\n",
       "                                                      'Embarked'])),\n",
       "                ('gbm', GradientBoostingClassifier(random_state=0))])"
      ]
     },
     "execution_count": 78,
     "metadata": {},
     "output_type": "execute_result"
    }
   ],
   "source": [
    "data_pipe.fit(X_train,y_train)"
   ]
  },
  {
   "cell_type": "code",
   "execution_count": 79,
   "metadata": {},
   "outputs": [],
   "source": [
    "train_predictions=data_pipe.predict_proba(X_train)[:,1]  # probability of Class 1\n",
    "test_predictions=data_pipe.predict_proba(X_test)[:,1]"
   ]
  },
  {
   "cell_type": "code",
   "execution_count": 80,
   "metadata": {},
   "outputs": [
    {
     "data": {
      "text/plain": [
       "array([0.72616419, 0.97029592, 0.05581693, 0.13133038, 0.69648091,\n",
       "       0.61366354, 0.36252403, 0.11080611, 0.14929005, 0.2977039 ,\n",
       "       0.82284003, 0.45992523, 0.08400724, 0.72853366, 0.12410412,\n",
       "       0.91937772, 0.02729417, 0.08858256, 0.16617946, 0.04516612,\n",
       "       0.10141699, 0.18495947, 0.15205897, 0.13207153, 0.8039196 ,\n",
       "       0.92037472, 0.90658035, 0.16165867, 0.11994105, 0.13397657,\n",
       "       0.31619481, 0.15001611, 0.95134128, 0.1184307 , 0.15803428,\n",
       "       0.61226113, 0.85614866, 0.82284003, 0.14197384, 0.07704759,\n",
       "       0.7774994 , 0.11217899, 0.45537086, 0.20938782, 0.26882415,\n",
       "       0.08677924, 0.07905754, 0.87619744, 0.16576346, 0.15908895,\n",
       "       0.03085568, 0.30271949, 0.12340126, 0.6776965 , 0.98281267,\n",
       "       0.86480995, 0.33240528, 0.20075624, 0.15553578, 0.05033322,\n",
       "       0.37816302, 0.1184307 , 0.87346338, 0.09564495, 0.49092278,\n",
       "       0.12043774, 0.07956034, 0.09968583, 0.13218343, 0.0444781 ,\n",
       "       0.93815259, 0.04723373, 0.10224745, 0.19488557, 0.11550584,\n",
       "       0.1890919 , 0.77824137, 0.85575961, 0.92347781, 0.14237789,\n",
       "       0.11550584, 0.12159378, 0.94672352, 0.88162717, 0.06109228,\n",
       "       0.08170142, 0.88576948, 0.09761106, 0.98280502, 0.34045962,\n",
       "       0.15001611, 0.14600942, 0.04516612, 0.95373169, 0.97686881,\n",
       "       0.94023938, 0.61174424, 0.98090642, 0.46934203, 0.1312535 ,\n",
       "       0.11217899, 0.98113674, 0.11550584, 0.06143008, 0.8533747 ,\n",
       "       0.17697326, 0.04516612, 0.02153789, 0.21190882, 0.1184307 ,\n",
       "       0.7972826 , 0.05879069, 0.97695275, 0.10224745, 0.79536838,\n",
       "       0.04497889, 0.11550584, 0.14929005, 0.12340126, 0.12741996,\n",
       "       0.7575634 , 0.09955251, 0.057626  , 0.97118633, 0.43685137,\n",
       "       0.14969371, 0.14984304, 0.72616419, 0.7972826 , 0.09619298,\n",
       "       0.91534794, 0.45330789, 0.18038672, 0.9734168 , 0.16111723,\n",
       "       0.9279382 , 0.13941685, 0.19412087, 0.42754571, 0.09923186,\n",
       "       0.53790941, 0.15424846, 0.17018963, 0.12039311, 0.55343241,\n",
       "       0.15908895, 0.12340126, 0.13272117, 0.22769033, 0.09106307,\n",
       "       0.057588  , 0.12590283, 0.10826804, 0.05033322, 0.86926429,\n",
       "       0.4308398 , 0.11080611, 0.33966972, 0.03717041, 0.88364378,\n",
       "       0.0932323 , 0.20075624, 0.08538686, 0.08060376, 0.94703336,\n",
       "       0.86045915, 0.61019201, 0.13271917, 0.02214129, 0.86817658,\n",
       "       0.07035285, 0.10224745, 0.07429653, 0.90102637, 0.70325097,\n",
       "       0.36878203, 0.02435276, 0.06852556, 0.17018963, 0.06503577,\n",
       "       0.11550584, 0.17702133, 0.46837102, 0.13272117, 0.86035692,\n",
       "       0.51164263, 0.14938642, 0.04845318, 0.11550584, 0.92442924,\n",
       "       0.05250082, 0.99156942, 0.10976568, 0.06836442, 0.70174466,\n",
       "       0.12340126, 0.31209099, 0.92061775, 0.83661145, 0.16423562,\n",
       "       0.11217899, 0.95386958, 0.89742314, 0.94784904, 0.12010635,\n",
       "       0.95971996, 0.15908895, 0.14232294, 0.72853366, 0.1184307 ,\n",
       "       0.29810602, 0.14105491, 0.18403098, 0.11511733, 0.86798648,\n",
       "       0.51257458, 0.07963388, 0.10565345, 0.86035692, 0.1184307 ,\n",
       "       0.34078906, 0.74227274, 0.9665032 , 0.09021192, 0.18289853,\n",
       "       0.20474159, 0.33466909, 0.1184307 , 0.03501893, 0.91439342,\n",
       "       0.1184307 , 0.12741996, 0.44745375, 0.43723212, 0.07224507,\n",
       "       0.31412268, 0.36371596, 0.0932323 , 0.14881499, 0.96177346,\n",
       "       0.10961437, 0.54548154, 0.11080611, 0.07112501, 0.22933344,\n",
       "       0.15771602, 0.8093055 , 0.07436082, 0.81945434, 0.2233569 ,\n",
       "       0.05595425, 0.45607613, 0.98244737, 0.36099148, 0.95954605,\n",
       "       0.67192079, 0.15771602, 0.12776468, 0.10699671, 0.12010635,\n",
       "       0.08333764, 0.15771602, 0.13272117, 0.84319314, 0.13067479,\n",
       "       0.92474773, 0.1169597 , 0.10716982, 0.54126196, 0.98305382,\n",
       "       0.12340126, 0.96926398, 0.82284003, 0.88984724, 0.06109228,\n",
       "       0.1184307 , 0.22188133, 0.03072469, 0.93535669, 0.15771602,\n",
       "       0.15803428, 0.42437525, 0.73129998, 0.14105491, 0.8181437 ,\n",
       "       0.9665032 , 0.29810602, 0.16165867, 0.16537886, 0.14006345,\n",
       "       0.66770008, 0.91950599, 0.13120218, 0.97162073, 0.10141699,\n",
       "       0.93205666, 0.19589638, 0.96862555, 0.19349519, 0.0797771 ,\n",
       "       0.37928502, 0.67192079, 0.14751815, 0.17518587, 0.08677924,\n",
       "       0.86817658, 0.15533689, 0.0551145 , 0.10694303, 0.14881499,\n",
       "       0.04330628, 0.2785221 , 0.89619568, 0.17531824, 0.13601288,\n",
       "       0.10224745, 0.30271949, 0.15424846, 0.86641123, 0.13272117,\n",
       "       0.18804701, 0.05581693, 0.67427812, 0.08538686, 0.10018491,\n",
       "       0.19901346, 0.96493916, 0.97870986, 0.03072469, 0.30430958,\n",
       "       0.90756296, 0.13207153, 0.09207691, 0.17585328, 0.06836442,\n",
       "       0.18877293, 0.14878093, 0.32212525, 0.10511716, 0.63852762,\n",
       "       0.8579845 , 0.61740339, 0.97843865, 0.86006573, 0.94835152,\n",
       "       0.81724086, 0.05626099, 0.0932323 , 0.33000475, 0.80007316,\n",
       "       0.1890919 , 0.05581693, 0.17293331, 0.76223669, 0.10224745,\n",
       "       0.51257458, 0.14564736, 0.08276829, 0.08276829, 0.03257152,\n",
       "       0.14802584, 0.66605423, 0.7723051 , 0.85407307, 0.11550584,\n",
       "       0.13272117, 0.21013611, 0.07708926, 0.95197735, 0.94883086,\n",
       "       0.20669177, 0.28199462, 0.18639844, 0.91717093, 0.1184307 ,\n",
       "       0.83738923, 0.03437202, 0.62059932, 0.0323834 , 0.91889068,\n",
       "       0.76223669, 0.91889068, 0.98390466, 0.03085568, 0.83724082,\n",
       "       0.76992674, 0.13271917, 0.713588  , 0.61947253, 0.18337737,\n",
       "       0.97694042, 0.38953308, 0.30271949, 0.06001637, 0.13120218,\n",
       "       0.25658456, 0.86480995, 0.0671913 , 0.16478065, 0.96566051,\n",
       "       0.14600942, 0.11550584, 0.07429653, 0.04845318, 0.1212791 ,\n",
       "       0.14006345, 0.0932323 , 0.13666643, 0.47303325, 0.10473144,\n",
       "       0.1184307 , 0.14929005, 0.12043774, 0.1184307 , 0.11666814,\n",
       "       0.96451505, 0.46014747, 0.02610214, 0.09968583, 0.55516891,\n",
       "       0.96987278, 0.24833758, 0.11870014, 0.15771602, 0.82284003,\n",
       "       0.90217565, 0.95131091, 0.21882542, 0.0639003 , 0.08858256,\n",
       "       0.92046203, 0.01017782, 0.12741996, 0.34968286, 0.13272117,\n",
       "       0.25743228, 0.14144562, 0.87091392, 0.14296865, 0.12741996,\n",
       "       0.28842129, 0.12153638, 0.10716982, 0.0326232 , 0.13067479,\n",
       "       0.07429653, 0.70077956, 0.13120218, 0.12340126, 0.43023245,\n",
       "       0.15771602, 0.91914282, 0.81724086, 0.68232927, 0.19532649,\n",
       "       0.10224745, 0.28437743, 0.84496651, 0.55829426, 0.13218343,\n",
       "       0.96746284, 0.12043774, 0.01846567, 0.11763545, 0.26696547,\n",
       "       0.01505169, 0.15908895, 0.12741996, 0.32212525, 0.13601288,\n",
       "       0.81275345, 0.04497889, 0.12232786, 0.45408931, 0.9495531 ,\n",
       "       0.96455111, 0.04544719, 0.82284003, 0.1184307 , 0.9646715 ,\n",
       "       0.96295354, 0.98249474, 0.19470005, 0.12340126, 0.96333005,\n",
       "       0.97070488, 0.86618105, 0.057626  , 0.17018963, 0.46366237,\n",
       "       0.27347926, 0.10224745, 0.10947853, 0.97438184, 0.13272117,\n",
       "       0.1312535 , 0.88209301, 0.12229246, 0.09370378, 0.08543411,\n",
       "       0.45741261, 0.12340126, 0.14203563, 0.72500865, 0.86926429,\n",
       "       0.92702692, 0.03085568, 0.82284003, 0.61174424, 0.1931687 ,\n",
       "       0.83545028, 0.20655954, 0.8712381 , 0.94999844, 0.12039311,\n",
       "       0.1318764 , 0.12741996, 0.8093055 , 0.1184307 , 0.33676836,\n",
       "       0.96071086, 0.59785035, 0.15771602, 0.26008589, 0.10407543,\n",
       "       0.15201693, 0.08079013, 0.7510376 , 0.05353098, 0.08276829,\n",
       "       0.06836442, 0.94845097, 0.82284003, 0.79085022, 0.03085568,\n",
       "       0.04150267, 0.84319314, 0.04845318, 0.04551263, 0.07350605,\n",
       "       0.12043774, 0.11550584, 0.82284003, 0.56168491, 0.94258386,\n",
       "       0.06531465, 0.9828865 , 0.15051478, 0.13466221, 0.98090642,\n",
       "       0.15424846, 0.10433045, 0.14984304, 0.56011631, 0.1169597 ,\n",
       "       0.10224745, 0.14887207, 0.15533689, 0.14929005, 0.59935743,\n",
       "       0.86817658, 0.6257731 , 0.88990292, 0.93637941, 0.82284003,\n",
       "       0.82983498, 0.15771602, 0.29084311, 0.11550584, 0.905621  ,\n",
       "       0.10565345, 0.10141699, 0.20976795, 0.20017724, 0.17079226,\n",
       "       0.77828158, 0.1135841 , 0.10716982, 0.2347647 , 0.3538043 ,\n",
       "       0.06637443, 0.59390292, 0.80819204, 0.6023827 , 0.13972877,\n",
       "       0.07224507, 0.92046203, 0.66605423, 0.09370378, 0.31763296,\n",
       "       0.57364652, 0.15424846, 0.82124352, 0.11511733, 0.05965608,\n",
       "       0.96569957, 0.53415102, 0.98172336, 0.90734292, 0.10653832,\n",
       "       0.12741996, 0.18387778, 0.97183258, 0.10947853, 0.11645481,\n",
       "       0.47549163, 0.7991445 , 0.8998697 , 0.24582369, 0.78831684,\n",
       "       0.58241738, 0.85708969, 0.04845318, 0.10141699, 0.96799914,\n",
       "       0.82284003, 0.85220539, 0.98490316, 0.98427572, 0.61174424,\n",
       "       0.1169597 , 0.53352266, 0.05675256])"
      ]
     },
     "execution_count": 80,
     "metadata": {},
     "output_type": "execute_result"
    }
   ],
   "source": [
    "train_predictions"
   ]
  },
  {
   "cell_type": "code",
   "execution_count": 81,
   "metadata": {},
   "outputs": [
    {
     "name": "stdout",
     "output_type": "stream",
     "text": [
      "Train set\n",
      "GBM roc-auc: 0.9555107264484501\n",
      "Test set\n",
      "GBM roc-auc: 0.8676488095238095\n"
     ]
    }
   ],
   "source": [
    "print('Train set')\n",
    "print('GBM roc-auc: {}'.format(roc_auc_score(y_train,train_predictions)))\n",
    "\n",
    "print('Test set')\n",
    "print('GBM roc-auc: {}'.format(roc_auc_score(y_test, test_predictions)))"
   ]
  },
  {
   "cell_type": "markdown",
   "metadata": {},
   "source": [
    "## Pipeline’s named_steps attribute \n",
    "### allows accessing steps by name "
   ]
  },
  {
   "cell_type": "code",
   "execution_count": 82,
   "metadata": {},
   "outputs": [
    {
     "data": {
      "text/plain": [
       "{'Age': -1, 'Cabin_number': -1}"
      ]
     },
     "execution_count": 82,
     "metadata": {},
     "output_type": "execute_result"
    }
   ],
   "source": [
    "data_pipe.named_steps['imputer_number'].imputer_dict_"
   ]
  },
  {
   "cell_type": "code",
   "execution_count": 83,
   "metadata": {},
   "outputs": [
    {
     "data": {
      "text/plain": [
       "OrdinalCategoricalEncoder(variables=['Cabin_class', 'Sex', 'Embarked'])"
      ]
     },
     "execution_count": 83,
     "metadata": {},
     "output_type": "execute_result"
    }
   ],
   "source": [
    "data_pipe.named_steps['categorical_encoder']"
   ]
  },
  {
   "cell_type": "markdown",
   "metadata": {},
   "source": [
    "## Pipeline’s steps attribute  \n",
    "### The estimators of a pipeline are stored as a list in the steps attribute, but can be accessed by index or name"
   ]
  },
  {
   "cell_type": "code",
   "execution_count": 85,
   "metadata": {},
   "outputs": [
    {
     "data": {
      "text/plain": [
       "('imputer_number',\n",
       " ArbitraryNumberImputer(arbitrary_number=-1, variables=['Age', 'Cabin_number']))"
      ]
     },
     "execution_count": 85,
     "metadata": {},
     "output_type": "execute_result"
    }
   ],
   "source": [
    "data_pipe.steps[0]  # .steps using index"
   ]
  },
  {
   "cell_type": "code",
   "execution_count": 86,
   "metadata": {},
   "outputs": [
    {
     "data": {
      "text/plain": [
       "('imputer_category',\n",
       " CategoricalVariableImputer(variables=['Embarked', 'Cabin_class']))"
      ]
     },
     "execution_count": 86,
     "metadata": {},
     "output_type": "execute_result"
    }
   ],
   "source": [
    "data_pipe.steps[1]  # .steps using index"
   ]
  },
  {
   "cell_type": "code",
   "execution_count": 87,
   "metadata": {},
   "outputs": [
    {
     "data": {
      "text/plain": [
       "ArbitraryNumberImputer(arbitrary_number=-1, variables=['Age', 'Cabin_number'])"
      ]
     },
     "execution_count": 87,
     "metadata": {},
     "output_type": "execute_result"
    }
   ],
   "source": [
    "data_pipe[0]   # directly by index"
   ]
  },
  {
   "cell_type": "code",
   "execution_count": 88,
   "metadata": {},
   "outputs": [
    {
     "data": {
      "text/plain": [
       "ArbitraryNumberImputer(arbitrary_number=-1, variables=['Age', 'Cabin_number'])"
      ]
     },
     "execution_count": 88,
     "metadata": {},
     "output_type": "execute_result"
    }
   ],
   "source": [
    "data_pipe['imputer_number']  # directly by name"
   ]
  },
  {
   "cell_type": "markdown",
   "metadata": {},
   "source": [
    "## Feature importance"
   ]
  },
  {
   "cell_type": "code",
   "execution_count": 90,
   "metadata": {},
   "outputs": [],
   "source": [
    "featureimportance = pd.Series(data_pipe.named_steps['gbm'].feature_importances_)"
   ]
  },
  {
   "cell_type": "code",
   "execution_count": 91,
   "metadata": {},
   "outputs": [
    {
     "data": {
      "text/plain": [
       "0    0.097135\n",
       "1    0.458222\n",
       "2    0.151946\n",
       "3    0.025308\n",
       "4    0.013029\n",
       "5    0.139141\n",
       "6    0.024109\n",
       "7    0.018333\n",
       "8    0.072777\n",
       "dtype: float64"
      ]
     },
     "execution_count": 91,
     "metadata": {},
     "output_type": "execute_result"
    }
   ],
   "source": [
    "featureimportance"
   ]
  },
  {
   "cell_type": "code",
   "execution_count": 94,
   "metadata": {},
   "outputs": [
    {
     "data": {
      "text/plain": [
       "<matplotlib.axes._subplots.AxesSubplot at 0x2512e8ba188>"
      ]
     },
     "execution_count": 94,
     "metadata": {},
     "output_type": "execute_result"
    },
    {
     "data": {
      "image/png": "[encoded data removed]",
      "text/plain": [
       "<Figure size 864x432 with 1 Axes>"
      ]
     },
     "metadata": {
      "needs_background": "light"
     },
     "output_type": "display_data"
    }
   ],
   "source": [
    "featureimportance.index = data.drop('Survived', axis=1).columns\n",
    "featureimportance.sort_values(inplace=True, ascending=False)\n",
    "featureimportance.plot.bar(figsize=(12,6))"
   ]
  },
  {
   "cell_type": "code",
   "execution_count": null,
   "metadata": {},
   "outputs": [],
   "source": []
  }
 ],
 "metadata": {
  "kernelspec": {
   "display_name": "Python 3",
   "language": "python",
   "name": "python3"
  },
  "language_info": {
   "codemirror_mode": {
    "name": "ipython",
    "version": 3
   },
   "file_extension": ".py",
   "mimetype": "text/x-python",
   "name": "python",
   "nbconvert_exporter": "python",
   "pygments_lexer": "ipython3",
   "version": "3.7.6"
  }
 },
 "nbformat": 4,
 "nbformat_minor": 4
}
